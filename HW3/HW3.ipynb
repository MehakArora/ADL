{
 "cells": [
  {
   "cell_type": "markdown",
   "metadata": {
    "id": "7Y_fk30kCvW9"
   },
   "source": [
    "# ECE 689, Spring 2025\n",
    "## Homework 3\n",
    "\n",
    "## Full name:"
   ]
  },
  {
   "cell_type": "markdown",
   "metadata": {
    "id": "dl5PDU_JVi-A"
   },
   "source": [
    "## Question 1: Transformer for translation"
   ]
  },
  {
   "cell_type": "markdown",
   "metadata": {
    "id": "wloM7bzeV1FV"
   },
   "source": [
    "Here, we implement transformers for neural machine translation (NMT), such as turning \"Hello world\" to \"Salut le monde\". You are going to follow the following steps:\n",
    "1. Load and prepare the data. We provide \"en-ft.txt\". Each line of this file contains an English phrase, the equivalent French phrase, and an attribution identifying where the translation came from. The en-fr.txt used in problem 3 can also be found at: https://github.com/jeffprosise/Applied-Machine-Learning/tree/main/Chapter%2013/Data\n",
    "2. Build and train a model. Implement a transformer from scratch in Pytorch. We will provide you with an existing implementation in Keras. You might also find https://github.com/gordicaleksa/pytorch-original-transformer useful.\n",
    "\n",
    "For deliverables, plot your training and validation accuracy. The x-axis should be epoch, the y-axis should be your translation accuracy.\n",
    "\n",
    "For reference, the provided code given at https://github.com/jeffprosise/Applied-Machine-Learning/blob/main/Chapter%2013/Neural%20Machine%20Translation%20(Transformer).ipynb achieves 85% accuracy after 14 epochs. You do not have to achieve the same performance to get full marks, just show understanding and functional codes."
   ]
  },
  {
   "cell_type": "code",
   "execution_count": 1,
   "metadata": {},
   "outputs": [],
   "source": [
    "import numpy as np\n",
    "import torch.nn as nn\n",
    "import torch.optim as optim\n",
    "from torch.utils.data import DataLoader, TensorDataset\n",
    "import seaborn as sns\n",
    "import matplotlib.pyplot as plt\n",
    "from bertviz import model_view"
   ]
  },
  {
   "cell_type": "code",
   "execution_count": 2,
   "metadata": {
    "id": "8JI6PUrSdYKs"
   },
   "outputs": [
    {
     "data": {
      "text/html": [
       "<div>\n",
       "<style scoped>\n",
       "    .dataframe tbody tr th:only-of-type {\n",
       "        vertical-align: middle;\n",
       "    }\n",
       "\n",
       "    .dataframe tbody tr th {\n",
       "        vertical-align: top;\n",
       "    }\n",
       "\n",
       "    .dataframe thead th {\n",
       "        text-align: right;\n",
       "    }\n",
       "</style>\n",
       "<table border=\"1\" class=\"dataframe\">\n",
       "  <thead>\n",
       "    <tr style=\"text-align: right;\">\n",
       "      <th></th>\n",
       "      <th>en</th>\n",
       "      <th>fr</th>\n",
       "    </tr>\n",
       "  </thead>\n",
       "  <tbody>\n",
       "    <tr>\n",
       "      <th>0</th>\n",
       "      <td>youre very clever</td>\n",
       "      <td>[start] vous etes fort ingenieuse [end]</td>\n",
       "    </tr>\n",
       "    <tr>\n",
       "      <th>1</th>\n",
       "      <td>are there kids</td>\n",
       "      <td>[start] y atil des enfants  [end]</td>\n",
       "    </tr>\n",
       "    <tr>\n",
       "      <th>2</th>\n",
       "      <td>come in</td>\n",
       "      <td>[start] entrez [end]</td>\n",
       "    </tr>\n",
       "    <tr>\n",
       "      <th>3</th>\n",
       "      <td>wheres boston</td>\n",
       "      <td>[start] ou est boston [end]</td>\n",
       "    </tr>\n",
       "    <tr>\n",
       "      <th>4</th>\n",
       "      <td>you see what i mean</td>\n",
       "      <td>[start] vous voyez ce que je veux dire  [end]</td>\n",
       "    </tr>\n",
       "  </tbody>\n",
       "</table>\n",
       "</div>"
      ],
      "text/plain": [
       "                    en                                             fr\n",
       "0    youre very clever        [start] vous etes fort ingenieuse [end]\n",
       "1       are there kids              [start] y atil des enfants  [end]\n",
       "2              come in                           [start] entrez [end]\n",
       "3        wheres boston                    [start] ou est boston [end]\n",
       "4  you see what i mean  [start] vous voyez ce que je veux dire  [end]"
      ]
     },
     "execution_count": 2,
     "metadata": {},
     "output_type": "execute_result"
    }
   ],
   "source": [
    "\"\"\"Clean the text by removing punctuation symbols and numbers, converting\n",
    "characters to lowercase, and replacing Unicode characters with their ASCII\n",
    "equivalents. For the French samples, insert [start] and [end] tokens at the\n",
    " beginning and end of each phrase\"\"\"\n",
    "import pandas as pd\n",
    "import re\n",
    "from unicodedata import normalize\n",
    "\n",
    "df = pd.read_csv('Data/en-fr.txt', names=['en', 'fr', 'attr'], usecols=['en', 'fr'], sep='\\t')\n",
    "df = df.sample(frac=1, random_state=42)\n",
    "df = df.reset_index(drop=True)\n",
    "df.head()\n",
    "\n",
    "def clean_text(text):\n",
    "    text = normalize('NFD', text.lower())\n",
    "    text = re.sub('[^A-Za-z ]+', '', text)\n",
    "    return text\n",
    "\n",
    "def clean_and_prepare_text(text):\n",
    "    text = '[start] ' + clean_text(text) + ' [end]'\n",
    "    return text\n",
    "\n",
    "df['en'] = df['en'].apply(lambda row: clean_text(row))\n",
    "df['fr'] = df['fr'].apply(lambda row: clean_and_prepare_text(row))\n",
    "df.head()"
   ]
  },
  {
   "cell_type": "code",
   "execution_count": 3,
   "metadata": {
    "id": "vbeUDWOVdftY"
   },
   "outputs": [
    {
     "name": "stdout",
     "output_type": "stream",
     "text": [
      "Max phrase length (English): 7\n",
      "Max phrase length (French): 16\n",
      "Sequence length: 16\n"
     ]
    }
   ],
   "source": [
    "\"\"\"The next step is to scan the phrases and determine the maximum length of the\n",
    "English phrases and then of the French phrases. These lengths will determine\n",
    "the lengths of the sequences input to and output from the model\"\"\"\n",
    "en = df['en']\n",
    "fr = df['fr']\n",
    "\n",
    "en_max_len = max(len(line.split()) for line in en)\n",
    "fr_max_len = max(len(line.split()) for line in fr)\n",
    "sequence_len = max(en_max_len, fr_max_len)\n",
    "\n",
    "print(f'Max phrase length (English): {en_max_len}')\n",
    "print(f'Max phrase length (French): {fr_max_len}')\n",
    "print(f'Sequence length: {sequence_len}')"
   ]
  },
  {
   "cell_type": "code",
   "execution_count": 4,
   "metadata": {},
   "outputs": [],
   "source": [
    "import torch\n",
    "from torchnlp.encoders.text import TreebankEncoder\n",
    "from torchnlp.encoders.text import pad_tensor, stack_and_pad_tensors\n",
    "from torchnlp.encoders.text import StaticTokenizerEncoder\n",
    "\n",
    "def french_tokenize(text):\n",
    "    text = text.replace('!', ' ').replace('\"', ' ').replace('#', ' ') \\\n",
    "            .replace('$', ' ').replace('%', ' ').replace('&', ' ') \\\n",
    "            .replace('(', ' ').replace(')', ' ').replace('*', ' ') \\\n",
    "            .replace('+', ' ').replace(',', ' ').replace('-', ' ') \\\n",
    "            .replace('.', ' ').replace('/', ' ').replace(':', ' ') \\\n",
    "            .replace(';', ' ').replace('<', ' ').replace('=', ' ') \\\n",
    "            .replace('>', ' ').replace('?', ' ').replace('@', ' ') \\\n",
    "            .replace('\\\\', ' ').replace('^', ' ').replace('_', ' ') \\\n",
    "            .replace('`', ' ').replace('{', ' ').replace('|', ' ') \\\n",
    "            .replace('}', ' ').replace('~', ' ').replace('\\t', ' ') \\\n",
    "            .replace('\\n', ' ')\n",
    "    return text.split()\n",
    "\n",
    "\n",
    "def custom_pad_sequences(sequences, max_len, padding_value=0):\n",
    "    padded_seqs = []\n",
    "    for seq in sequences:\n",
    "        if len(seq) < max_len:\n",
    "            # Pad the sequence\n",
    "            padded = torch.cat([seq, torch.tensor([padding_value] * (max_len - len(seq)), dtype=torch.long)])\n",
    "        else:\n",
    "            # Truncate if longer than max_len\n",
    "            padded = seq[:max_len]\n",
    "        padded_seqs.append(padded)\n",
    "    return torch.stack(padded_seqs)\n"
   ]
  },
  {
   "cell_type": "code",
   "execution_count": 5,
   "metadata": {},
   "outputs": [
    {
     "name": "stderr",
     "output_type": "stream",
     "text": [
      "[nltk_data] Downloading package perluniprops to\n",
      "[nltk_data]     /hpc/home/ma618/nltk_data...\n",
      "[nltk_data]   Package perluniprops is already up-to-date!\n",
      "[nltk_data] Downloading package nonbreaking_prefixes to\n",
      "[nltk_data]     /hpc/home/ma618/nltk_data...\n",
      "[nltk_data]   Package nonbreaking_prefixes is already up-to-date!\n"
     ]
    }
   ],
   "source": [
    "entokenizer = TreebankEncoder(en)\n",
    "frtokenizer = StaticTokenizerEncoder(fr, tokenize=french_tokenize, append_eos=False, reserved_tokens=['<pad>'])\n"
   ]
  },
  {
   "cell_type": "code",
   "execution_count": 6,
   "metadata": {},
   "outputs": [
    {
     "name": "stderr",
     "output_type": "stream",
     "text": [
      "/tmp/ipykernel_162488/1370978746.py:1: UserWarning: To copy construct from a tensor, it is recommended to use sourceTensor.clone().detach() or sourceTensor.clone().detach().requires_grad_(True), rather than torch.tensor(sourceTensor).\n",
      "  en_sequences = [torch.tensor(entokenizer.encode(sentence)) for sentence in en]\n",
      "/tmp/ipykernel_162488/1370978746.py:2: UserWarning: To copy construct from a tensor, it is recommended to use sourceTensor.clone().detach() or sourceTensor.clone().detach().requires_grad_(True), rather than torch.tensor(sourceTensor).\n",
      "  fr_sequences = [torch.tensor(frtokenizer.encode(sentence)) for sentence in fr]\n"
     ]
    }
   ],
   "source": [
    "en_sequences = [torch.tensor(entokenizer.encode(sentence)) for sentence in en]\n",
    "fr_sequences = [torch.tensor(frtokenizer.encode(sentence)) for sentence in fr]"
   ]
  },
  {
   "cell_type": "code",
   "execution_count": 7,
   "metadata": {},
   "outputs": [],
   "source": [
    "# Pad the sequences to the desired length\n",
    "en_x = custom_pad_sequences(en_sequences, sequence_len, padding_value=0)\n",
    "fr_y = custom_pad_sequences(fr_sequences, sequence_len + 1, padding_value=0)"
   ]
  },
  {
   "cell_type": "code",
   "execution_count": 8,
   "metadata": {},
   "outputs": [
    {
     "name": "stdout",
     "output_type": "stream",
     "text": [
      "Vocabulary size (English): 6038\n",
      "Vocabulary size (French): 12198\n"
     ]
    }
   ],
   "source": [
    "\"\"\"Compute the vocabulary sizes from the Tokenizer instances\"\"\"\n",
    "en_vocab_size = len(entokenizer.vocab) + 1\n",
    "fr_vocab_size = len(frtokenizer.vocab) + 1\n",
    "\n",
    "print(f'Vocabulary size (English): {en_vocab_size}')\n",
    "print(f'Vocabulary size (French): {fr_vocab_size}')"
   ]
  },
  {
   "cell_type": "code",
   "execution_count": 9,
   "metadata": {},
   "outputs": [],
   "source": [
    "\"\"\"Finally, create the features and the labels the model will be trained with.\n",
    "The features are the padded English sequences and the padded French sequences\n",
    "minus the [end] tokens. The labels are the padded French sequences minus the\n",
    "[start] tokens. Package the features in a dictionary so they can be input to a\n",
    "model that accepts multiple inputs.\"\"\"\n",
    "inputs = { 'encoder_input': en_x, 'decoder_input': fr_y[:, :-1] }\n",
    "outputs = fr_y[:, 1:]"
   ]
  },
  {
   "cell_type": "code",
   "execution_count": 10,
   "metadata": {},
   "outputs": [
    {
     "name": "stdout",
     "output_type": "stream",
     "text": [
      "Decoded English sentence: youre very clever <pad> <pad> <pad> <pad> <pad> <pad> <pad> <pad> <pad> <pad> <pad> <pad> <pad>\n",
      "Decoded French sentence: [start] vous etes fort ingenieuse [end] <pad> <pad> <pad> <pad> <pad> <pad> <pad> <pad> <pad> <pad> <pad>\n"
     ]
    }
   ],
   "source": [
    "def decode_sequence(sequence, tokenizer):\n",
    "    # Convert tensor to list if necessary\n",
    "    if isinstance(sequence, torch.Tensor):\n",
    "        sequence = sequence.tolist()\n",
    "    \n",
    "    # Decode the sequence using the tokenizer's vocabulary\n",
    "    decoded_sequence = [tokenizer.index_to_token[token] for token in sequence if token < len(tokenizer.index_to_token)]\n",
    "    \n",
    "    # Join the tokens to form the final sentence\n",
    "    return ' '.join(decoded_sequence)\n",
    "\n",
    "decoded_en_sentence = decode_sequence(en_x[0], entokenizer)\n",
    "decoded_fr_sentence = decode_sequence(fr_y[0], frtokenizer)\n",
    "\n",
    "print(f'Decoded English sentence: {decoded_en_sentence}')\n",
    "print(f'Decoded French sentence: {decoded_fr_sentence}')"
   ]
  },
  {
   "cell_type": "code",
   "execution_count": 11,
   "metadata": {},
   "outputs": [
    {
     "name": "stderr",
     "output_type": "stream",
     "text": [
      "/tmp/ipykernel_162488/3251276918.py:1: UserWarning: To copy construct from a tensor, it is recommended to use sourceTensor.clone().detach() or sourceTensor.clone().detach().requires_grad_(True), rather than torch.tensor(sourceTensor).\n",
      "  encoder_input = torch.tensor(inputs['encoder_input']).long()\n",
      "/tmp/ipykernel_162488/3251276918.py:2: UserWarning: To copy construct from a tensor, it is recommended to use sourceTensor.clone().detach() or sourceTensor.clone().detach().requires_grad_(True), rather than torch.tensor(sourceTensor).\n",
      "  decoder_input = torch.tensor(inputs['decoder_input']).long()\n",
      "/tmp/ipykernel_162488/3251276918.py:3: UserWarning: To copy construct from a tensor, it is recommended to use sourceTensor.clone().detach() or sourceTensor.clone().detach().requires_grad_(True), rather than torch.tensor(sourceTensor).\n",
      "  target = torch.tensor(outputs).long()\n"
     ]
    }
   ],
   "source": [
    "encoder_input = torch.tensor(inputs['encoder_input']).long()\n",
    "decoder_input = torch.tensor(inputs['decoder_input']).long()\n",
    "target = torch.tensor(outputs).long()\n",
    "\n",
    "test_split = 0.2\n",
    "test_size = int(test_split * len(encoder_input))\n",
    "test_encoder_input, train_encoder_input_ = encoder_input[:test_size], encoder_input[test_size:]\n",
    "test_decoder_input, train_decoder_input_ = decoder_input[:test_size], decoder_input[test_size:]\n",
    "test_target, train_target_ = target[:test_size], target[test_size:]\n",
    "\n",
    "validation_split = 0.2\n",
    "val_size = int(validation_split * len(train_encoder_input_))\n",
    "train_size = len(train_encoder_input_) - val_size\n",
    "    \n",
    "train_encoder_input, val_encoder_input = train_encoder_input_[:train_size], train_encoder_input_[train_size:]\n",
    "train_decoder_input, val_decoder_input = train_decoder_input_[:train_size], train_decoder_input_[train_size:]\n",
    "train_target, val_target = train_target_[:train_size], train_target_[train_size:]\n",
    "\n"
   ]
  },
  {
   "cell_type": "code",
   "execution_count": 12,
   "metadata": {},
   "outputs": [],
   "source": [
    "\n",
    "# Set seeds for reproducibility\n",
    "np.random.seed(42)\n",
    "torch.manual_seed(42)\n",
    "if torch.cuda.is_available():\n",
    "    torch.cuda.manual_seed_all(42)\n",
    "\n",
    "# Hyperparameters \n",
    "num_heads = 8\n",
    "embed_dim = 256\n",
    "batch_size = 8\n",
    "num_layers = 2\n",
    "dropout = 0.2\n",
    "\n",
    "device = torch.device('cuda' if torch.cuda.is_available() else 'cpu')\n",
    "\n",
    "    \n",
    "# Create datasets and dataloaders\n",
    "train_dataset = TensorDataset(train_encoder_input, train_decoder_input, train_target)\n",
    "val_dataset = TensorDataset(val_encoder_input, val_decoder_input, val_target)\n",
    "test_dataset = TensorDataset(test_encoder_input, test_decoder_input, test_target)\n",
    "\n",
    "\n",
    "train_loader = DataLoader(train_dataset, batch_size=batch_size, shuffle=True)\n",
    "val_loader = DataLoader(val_dataset, batch_size=batch_size)\n",
    "test_loader = DataLoader(test_dataset, batch_size=batch_size)"
   ]
  },
  {
   "cell_type": "code",
   "execution_count": 13,
   "metadata": {
    "scrolled": true,
    "tags": []
   },
   "outputs": [],
   "source": [
    "import importlib\n",
    "import transformer\n",
    "importlib.reload(transformer)\n",
    "\n",
    "import debug\n",
    "importlib.reload(debug)\n",
    "\n",
    "from utils import (\n",
    "    AttentionAnalyzer, \n",
    "    IntermediateActivationTracker, \n",
    "    GradientAnalyzer,\n",
    "    analyze_transformer_debugging,\n",
    "    visualize_all_attention_heads\n",
    ")\n",
    "\n",
    "model = transformer.TransformerModel(en_vocab_size, fr_vocab_size, embed_dim, num_heads,\\\n",
    "                                     sequence_len, num_layers=num_layers, dropout=dropout, debug = False)\n",
    "model.to(device)\n",
    "\n",
    "model.register_hooks()\n",
    "\n",
    "\n",
    "# Define loss and optimizer\n",
    "attention_analyzer = AttentionAnalyzer(model)\n",
    "activation_tracker = IntermediateActivationTracker(model)\n",
    "gradient_analyzer = GradientAnalyzer(model)\n",
    "\n",
    "# Create optimizer and loss function\n",
    "optimizer = torch.optim.Adam(model.parameters(), lr=0.0001)\n",
    "criterion = torch.nn.CrossEntropyLoss(ignore_index=0)  # Assuming 0 is padding\n",
    "#scheduler = optim.lr_scheduler.CosineAnnealingWarmRestarts(\n",
    "#            optimizer,\n",
    "#            T_0=10,  # Number of iterations for the first restart\n",
    "#            T_mult=2  # After each restart, T_0 is multiplied by this value\n",
    "#        )\n",
    "    \n",
    "#scheduler = optim.lr_scheduler.ReduceLROnPlateau(\n",
    "#            optimizer,\n",
    "#            mode=\"max\",  # In this case, we're maximizing accuracy/\n",
    "#            factor=0.5,  # Factor by which the learning rate wisll be reduced (0.5 = halved)\n",
    "#            patience=3,  # Number of epochs with no improvement after which learning rate will be reduced\n",
    "#            verbose=True,\n",
    "#            min_lr=1e-6\n",
    "#        )"
   ]
  },
  {
   "cell_type": "code",
   "execution_count": 14,
   "metadata": {
    "scrolled": true,
    "tags": []
   },
   "outputs": [],
   "source": [
    "\n",
    "# Early stopping setup\n",
    "best_val_accuracy = 0\n",
    "patience = 3\n",
    "counter = 0\n",
    "    \n",
    "# Training history\n",
    "history = {\n",
    "    'accuracy': [],\n",
    "    'val_accuracy': []\n",
    "}\n",
    "    \n",
    "# Training loop\n",
    "epochs = 25"
   ]
  },
  {
   "cell_type": "code",
   "execution_count": 15,
   "metadata": {
    "scrolled": true,
    "tags": []
   },
   "outputs": [
    {
     "name": "stderr",
     "output_type": "stream",
     "text": [
      "100%|██████████| 4000/4000 [02:18<00:00, 28.96it/s]\n"
     ]
    },
    {
     "name": "stdout",
     "output_type": "stream",
     "text": [
      "Epoch 1/25 - Loss: 3.2984 - Accuracy: 0.5781 - Val Accuracy: 0.7845\n",
      "Learning rate: 0.0001\n"
     ]
    },
    {
     "name": "stderr",
     "output_type": "stream",
     "text": [
      "100%|██████████| 4000/4000 [02:18<00:00, 28.83it/s]\n"
     ]
    },
    {
     "name": "stdout",
     "output_type": "stream",
     "text": [
      "Epoch 2/25 - Loss: 1.4571 - Accuracy: 0.8157 - Val Accuracy: 0.8745\n",
      "Learning rate: 0.0001\n"
     ]
    },
    {
     "name": "stderr",
     "output_type": "stream",
     "text": [
      "100%|██████████| 4000/4000 [02:11<00:00, 30.36it/s]\n"
     ]
    },
    {
     "name": "stdout",
     "output_type": "stream",
     "text": [
      "Epoch 3/25 - Loss: 0.9361 - Accuracy: 0.8792 - Val Accuracy: 0.9048\n",
      "Learning rate: 0.0001\n"
     ]
    },
    {
     "name": "stderr",
     "output_type": "stream",
     "text": [
      "100%|██████████| 4000/4000 [02:18<00:00, 28.82it/s]\n"
     ]
    },
    {
     "name": "stdout",
     "output_type": "stream",
     "text": [
      "Epoch 4/25 - Loss: 0.6799 - Accuracy: 0.9096 - Val Accuracy: 0.9242\n",
      "Learning rate: 0.0001\n"
     ]
    },
    {
     "name": "stderr",
     "output_type": "stream",
     "text": [
      "100%|██████████| 4000/4000 [02:19<00:00, 28.75it/s]\n"
     ]
    },
    {
     "name": "stdout",
     "output_type": "stream",
     "text": [
      "Epoch 5/25 - Loss: 0.5190 - Accuracy: 0.9284 - Val Accuracy: 0.9318\n",
      "Learning rate: 0.0001\n"
     ]
    },
    {
     "name": "stderr",
     "output_type": "stream",
     "text": [
      "100%|██████████| 4000/4000 [02:12<00:00, 30.11it/s]\n"
     ]
    },
    {
     "name": "stdout",
     "output_type": "stream",
     "text": [
      "Epoch 6/25 - Loss: 0.4185 - Accuracy: 0.9400 - Val Accuracy: 0.9377\n",
      "Learning rate: 0.0001\n"
     ]
    },
    {
     "name": "stderr",
     "output_type": "stream",
     "text": [
      "100%|██████████| 4000/4000 [03:06<00:00, 21.42it/s]\n"
     ]
    },
    {
     "name": "stdout",
     "output_type": "stream",
     "text": [
      "Epoch 7/25 - Loss: 0.3504 - Accuracy: 0.9468 - Val Accuracy: 0.9425\n",
      "Learning rate: 0.0001\n"
     ]
    },
    {
     "name": "stderr",
     "output_type": "stream",
     "text": [
      "100%|██████████| 4000/4000 [03:02<00:00, 21.90it/s]\n"
     ]
    },
    {
     "name": "stdout",
     "output_type": "stream",
     "text": [
      "Epoch 8/25 - Loss: 0.2905 - Accuracy: 0.9537 - Val Accuracy: 0.9461\n",
      "Learning rate: 0.0001\n"
     ]
    },
    {
     "name": "stderr",
     "output_type": "stream",
     "text": [
      "100%|██████████| 4000/4000 [03:09<00:00, 21.08it/s]\n"
     ]
    },
    {
     "name": "stdout",
     "output_type": "stream",
     "text": [
      "Epoch 9/25 - Loss: 0.2440 - Accuracy: 0.9580 - Val Accuracy: 0.9505\n",
      "Learning rate: 0.0001\n"
     ]
    },
    {
     "name": "stderr",
     "output_type": "stream",
     "text": [
      "100%|██████████| 4000/4000 [02:22<00:00, 28.10it/s]\n"
     ]
    },
    {
     "name": "stdout",
     "output_type": "stream",
     "text": [
      "Epoch 10/25 - Loss: 0.2094 - Accuracy: 0.9619 - Val Accuracy: 0.9543\n",
      "Learning rate: 0.0001\n"
     ]
    },
    {
     "name": "stderr",
     "output_type": "stream",
     "text": [
      "100%|██████████| 4000/4000 [02:14<00:00, 29.70it/s]\n"
     ]
    },
    {
     "name": "stdout",
     "output_type": "stream",
     "text": [
      "Epoch 11/25 - Loss: 0.1836 - Accuracy: 0.9663 - Val Accuracy: 0.9558\n",
      "Learning rate: 0.0001\n"
     ]
    },
    {
     "name": "stderr",
     "output_type": "stream",
     "text": [
      "100%|██████████| 4000/4000 [02:25<00:00, 27.51it/s]\n"
     ]
    },
    {
     "name": "stdout",
     "output_type": "stream",
     "text": [
      "Epoch 12/25 - Loss: 0.1584 - Accuracy: 0.9704 - Val Accuracy: 0.9567\n",
      "Learning rate: 0.0001\n"
     ]
    },
    {
     "name": "stderr",
     "output_type": "stream",
     "text": [
      "100%|██████████| 4000/4000 [02:16<00:00, 29.30it/s]\n"
     ]
    },
    {
     "name": "stdout",
     "output_type": "stream",
     "text": [
      "Epoch 13/25 - Loss: 0.1393 - Accuracy: 0.9732 - Val Accuracy: 0.9577\n",
      "Learning rate: 0.0001\n"
     ]
    },
    {
     "name": "stderr",
     "output_type": "stream",
     "text": [
      "100%|██████████| 4000/4000 [02:19<00:00, 28.67it/s]\n"
     ]
    },
    {
     "name": "stdout",
     "output_type": "stream",
     "text": [
      "Epoch 14/25 - Loss: 0.1290 - Accuracy: 0.9754 - Val Accuracy: 0.9583\n",
      "Learning rate: 0.0001\n"
     ]
    },
    {
     "name": "stderr",
     "output_type": "stream",
     "text": [
      "100%|██████████| 4000/4000 [02:08<00:00, 31.20it/s]\n"
     ]
    },
    {
     "name": "stdout",
     "output_type": "stream",
     "text": [
      "Epoch 15/25 - Loss: 0.1209 - Accuracy: 0.9772 - Val Accuracy: 0.9592\n",
      "Learning rate: 0.0001\n"
     ]
    },
    {
     "name": "stderr",
     "output_type": "stream",
     "text": [
      "100%|██████████| 4000/4000 [02:19<00:00, 28.69it/s]\n"
     ]
    },
    {
     "name": "stdout",
     "output_type": "stream",
     "text": [
      "Epoch 16/25 - Loss: 0.1111 - Accuracy: 0.9787 - Val Accuracy: 0.9601\n",
      "Learning rate: 0.0001\n"
     ]
    },
    {
     "name": "stderr",
     "output_type": "stream",
     "text": [
      "100%|██████████| 4000/4000 [02:14<00:00, 29.64it/s]\n"
     ]
    },
    {
     "name": "stdout",
     "output_type": "stream",
     "text": [
      "Epoch 17/25 - Loss: 0.1054 - Accuracy: 0.9798 - Val Accuracy: 0.9603\n",
      "Learning rate: 0.0001\n"
     ]
    },
    {
     "name": "stderr",
     "output_type": "stream",
     "text": [
      "100%|██████████| 4000/4000 [02:15<00:00, 29.51it/s]\n"
     ]
    },
    {
     "name": "stdout",
     "output_type": "stream",
     "text": [
      "Epoch 18/25 - Loss: 0.1021 - Accuracy: 0.9806 - Val Accuracy: 0.9611\n",
      "Learning rate: 0.0001\n"
     ]
    },
    {
     "name": "stderr",
     "output_type": "stream",
     "text": [
      "100%|██████████| 4000/4000 [03:05<00:00, 21.57it/s]\n"
     ]
    },
    {
     "name": "stdout",
     "output_type": "stream",
     "text": [
      "Epoch 19/25 - Loss: 0.0966 - Accuracy: 0.9818 - Val Accuracy: 0.9613\n",
      "Learning rate: 0.0001\n"
     ]
    },
    {
     "name": "stderr",
     "output_type": "stream",
     "text": [
      "100%|██████████| 4000/4000 [03:11<00:00, 20.87it/s]\n"
     ]
    },
    {
     "name": "stdout",
     "output_type": "stream",
     "text": [
      "Epoch 20/25 - Loss: 0.0924 - Accuracy: 0.9828 - Val Accuracy: 0.9609\n",
      "Learning rate: 0.0001\n"
     ]
    },
    {
     "name": "stderr",
     "output_type": "stream",
     "text": [
      "100%|██████████| 4000/4000 [03:18<00:00, 20.15it/s]\n"
     ]
    },
    {
     "name": "stdout",
     "output_type": "stream",
     "text": [
      "Epoch 21/25 - Loss: 0.0833 - Accuracy: 0.9841 - Val Accuracy: 0.9614\n",
      "Learning rate: 0.0001\n"
     ]
    },
    {
     "name": "stderr",
     "output_type": "stream",
     "text": [
      "100%|██████████| 4000/4000 [03:10<00:00, 21.04it/s]\n"
     ]
    },
    {
     "name": "stdout",
     "output_type": "stream",
     "text": [
      "Epoch 22/25 - Loss: 0.0906 - Accuracy: 0.9835 - Val Accuracy: 0.9616\n",
      "Learning rate: 0.0001\n"
     ]
    },
    {
     "name": "stderr",
     "output_type": "stream",
     "text": [
      "100%|██████████| 4000/4000 [02:57<00:00, 22.50it/s]\n"
     ]
    },
    {
     "name": "stdout",
     "output_type": "stream",
     "text": [
      "Epoch 23/25 - Loss: 0.0869 - Accuracy: 0.9839 - Val Accuracy: 0.9626\n",
      "Learning rate: 0.0001\n"
     ]
    },
    {
     "name": "stderr",
     "output_type": "stream",
     "text": [
      "100%|██████████| 4000/4000 [03:08<00:00, 21.22it/s]\n"
     ]
    },
    {
     "name": "stdout",
     "output_type": "stream",
     "text": [
      "Epoch 24/25 - Loss: 0.0811 - Accuracy: 0.9850 - Val Accuracy: 0.9632\n",
      "Learning rate: 0.0001\n"
     ]
    },
    {
     "name": "stderr",
     "output_type": "stream",
     "text": [
      "100%|██████████| 4000/4000 [03:06<00:00, 21.48it/s]\n"
     ]
    },
    {
     "name": "stdout",
     "output_type": "stream",
     "text": [
      "Epoch 25/25 - Loss: 0.0815 - Accuracy: 0.9849 - Val Accuracy: 0.9633\n",
      "Learning rate: 0.0001\n"
     ]
    }
   ],
   "source": [
    "from tqdm import tqdm\n",
    "for epoch in range(epochs):\n",
    "    model.train()\n",
    "    total_loss = 0\n",
    "    correct = 0\n",
    "    total = 0\n",
    "    iteration = 0\n",
    "\n",
    "    for encoder_input_batch, decoder_input_batch, target_batch in tqdm(train_loader):\n",
    "        encoder_input_batch = encoder_input_batch.to(device)\n",
    "        decoder_input_batch = decoder_input_batch.to(device)\n",
    "        target_batch = target_batch.to(device)\n",
    "\n",
    "        # Forward pass\n",
    "\n",
    "        output, attn_weights = model(encoder_input_batch, decoder_input_batch)\n",
    "\n",
    "        # Reshape output and target for loss calculation\n",
    "        output = output.view(-1, fr_vocab_size)\n",
    "        target_batch = target_batch.view(-1)\n",
    "\n",
    "        # Calculate loss\n",
    "        loss = criterion(output, target_batch)\n",
    "\n",
    "        optimizer.zero_grad()\n",
    "        #torch.nn.utils.clip_grad_norm_(model.parameters(), max_norm=0.5)\n",
    "        loss.backward()\n",
    "        \n",
    "       \n",
    "        #attention_analyzer.capture()\n",
    "        #activation_tracker.capture()\n",
    "        #gradient_analyzer.capture()\n",
    "\n",
    "        total_loss += loss.item()\n",
    "\n",
    "        # Calculate accuracy\n",
    "        _, predicted = torch.max(output, 1)\n",
    "        mask = (target_batch != 0)  # Ignore padding\n",
    "        correct += ((predicted == target_batch) & mask).sum().item()\n",
    "        total += mask.sum().item()\n",
    "\n",
    "        #if iteration % 30 == 0:  \n",
    "            #print(\"\\nAttention Analysis:\")\n",
    "            #attention_analyzer.identify_important_heads('encoder', 'entropy')\n",
    "\n",
    "            #print(\"\\nActivation Analysis:\")\n",
    "            #activation_tracker.identify_activation_issues()\n",
    "\n",
    "            #print(\"\\nGradient Analysis:\")\n",
    "            #gradient_analyzer.identify_gradient_issues()\n",
    "        \n",
    "        \n",
    "        optimizer.step()\n",
    "        iteration += 1\n",
    "\n",
    "\n",
    "\n",
    "    train_accuracy = correct / total\n",
    "    history['accuracy'].append(train_accuracy)\n",
    "\n",
    "    # Validation\n",
    "    model.eval()\n",
    "    val_correct = 0\n",
    "    val_total = 0\n",
    "\n",
    "    with torch.no_grad():\n",
    "        for encoder_input_batch, decoder_input_batch, target_batch in val_loader:\n",
    "            encoder_input_batch = encoder_input_batch.to(device)\n",
    "            decoder_input_batch = decoder_input_batch.to(device)\n",
    "            target_batch = target_batch.to(device)\n",
    "\n",
    "            output, attn_weights = model(encoder_input_batch, decoder_input_batch)\n",
    "            output = output.view(-1, fr_vocab_size)\n",
    "            target_batch = target_batch.view(-1)\n",
    "\n",
    "            _, predicted = torch.max(output, 1)\n",
    "            mask = (target_batch != 0)  # Ignore padding\n",
    "            val_correct += ((predicted == target_batch) & mask).sum().item()\n",
    "            val_total += mask.sum().item()\n",
    "\n",
    "        val_accuracy = val_correct / val_total\n",
    "        history['val_accuracy'].append(val_accuracy)\n",
    "\n",
    "        print(f'Epoch {epoch+1}/{epochs} - Loss: {total_loss/len(train_loader):.4f} - Accuracy: {train_accuracy:.4f} - Val Accuracy: {val_accuracy:.4f}')\n",
    "        print(f\"Learning rate: { optimizer.state_dict()['param_groups'][0]['lr']}\" )\n",
    "        \n",
    "        # Early stopping\n",
    "        if val_accuracy > best_val_accuracy:\n",
    "            best_val_accuracy = val_accuracy\n",
    "            # Save the best model\n",
    "            torch.save(model.state_dict(), 'best_model.pt')\n",
    "            counter = 0\n",
    "        else:\n",
    "            counter += 1\n",
    "            if counter >= patience:\n",
    "                print(f'Early stopping after {epoch+1} epochs')\n",
    "                # Load best model\n",
    "                model.load_state_dict(torch.load('best_model.pt'))\n",
    "                break"
   ]
  },
  {
   "cell_type": "code",
   "execution_count": 17,
   "metadata": {},
   "outputs": [
    {
     "data": {
      "image/png": "[encoded data removed]",
      "text/plain": [
       "<Figure size 800x500 with 1 Axes>"
      ]
     },
     "metadata": {},
     "output_type": "display_data"
    }
   ],
   "source": [
    "def plot_history(history):\n",
    "    fig, ax1 = plt.subplots(1, 1, figsize=(8, 5))\n",
    "    epochs = range(1, len(history['accuracy']) + 1)\n",
    "    ax1.plot(epochs, history['accuracy'], '-', label='Training accuracy')\n",
    "    ax1.plot(epochs, history['val_accuracy'], ':', label='Validation accuracy')\n",
    "    ax1.set_title('Training and Validation Accuracy')\n",
    "    ax1.set_xlabel('Epochs')\n",
    "    ax1.set_ylabel('Accuracy')\n",
    "    ax1.legend(loc='lower right')\n",
    "    \n",
    "    plt.tight_layout()\n",
    "    plt.show()\n",
    "    \n",
    "plot_history(history)"
   ]
  },
  {
   "cell_type": "code",
   "execution_count": 29,
   "metadata": {},
   "outputs": [
    {
     "name": "stdout",
     "output_type": "stream",
     "text": [
      "Test Accuracy : 0.9637\n"
     ]
    }
   ],
   "source": [
    "correct = 0\n",
    "total = 0\n",
    "model.eval()\n",
    "inputs = []\n",
    "targets = []\n",
    "predictions = []\n",
    "with torch.no_grad():\n",
    "    for encoder_input_batch, decoder_input_batch, target_batch in test_loader:\n",
    "        encoder_input_batch = encoder_input_batch.to(device)\n",
    "        decoder_input_batch = decoder_input_batch.to(device)\n",
    "        target_batch = target_batch.to(device)\n",
    "        output, attn_weights = model(encoder_input_batch, decoder_input_batch)\n",
    "        output = output.view(-1, fr_vocab_size)\n",
    "        \n",
    "        original_shape = target_batch.shape\n",
    "        target_batch_flat = target_batch.view(-1)\n",
    "        _, predicted = torch.max(output, 1)\n",
    "        mask = (target_batch_flat != 0)  # Ignore padding\n",
    "        correct += ((predicted == target_batch_flat) & mask).sum().item()\n",
    "        total += mask.sum().item()\n",
    "        \n",
    "        predicted = predicted.view(original_shape)\n",
    "        \n",
    "        # Convert tensors to lists or numpy arrays before extending\n",
    "        inputs.append(encoder_input_batch.cpu().numpy())\n",
    "        targets.append(target_batch.cpu().numpy())\n",
    "        predictions.append(predicted.cpu().numpy())\n",
    "\n",
    "# After the loop, concatenate all the collected batches\n",
    "inputs = np.concatenate(inputs, axis=0)\n",
    "targets = np.concatenate(targets, axis=0)\n",
    "predictions = np.concatenate(predictions, axis=0)\n",
    "\n",
    "test_accuracy = correct / total\n",
    "print(f\"Test Accuracy : {test_accuracy:.4f}\")"
   ]
  },
  {
   "cell_type": "code",
   "execution_count": 30,
   "metadata": {},
   "outputs": [
    {
     "name": "stdout",
     "output_type": "stream",
     "text": [
      "Decoded English sentence: tom could do that <pad> <pad> <pad> <pad> <pad> <pad> <pad> <pad> <pad> <pad> <pad> <pad>\n",
      "Decoded French sentence: tom pourrait faire cela [end] <pad> <pad> <pad> <pad> <pad> <pad> <pad> <pad> <pad> <pad> <pad>\n",
      "Decoded predicted French sentence: tom pourrait faire cela [end] [end] [end] [end] [end] [end] [end] [end] [end] [end] [end] [end]\n"
     ]
    }
   ],
   "source": [
    "random_sentence = np.random.choice(list(range(len(inputs))))\n",
    "decoded_en_sentence = decode_sequence(inputs[random_sentence], entokenizer)\n",
    "decoded_fr_sentence = decode_sequence(targets[random_sentence], frtokenizer)\n",
    "decoded_output = decode_sequence(predictions[random_sentence], frtokenizer)\n",
    "\n",
    "print(f'Decoded English sentence: {decoded_en_sentence}')\n",
    "print(f'Decoded French sentence: {decoded_fr_sentence}')\n",
    "print(f'Decoded predicted French sentence: {decoded_output}')"
   ]
  },
  {
   "cell_type": "markdown",
   "metadata": {
    "id": "GXBNo7ENgCIR"
   },
   "source": [
    "## Question 2: BERT for sentiment analysis"
   ]
  },
  {
   "cell_type": "markdown",
   "metadata": {
    "id": "P6DNvmkkgRR4"
   },
   "source": [
    "For the last problem, we are going to learn how to use the huggingface library to train a simple BERT classifier for sentiment analysis.\n",
    "\n",
    "We will use the IMDB dataset. You can find the dataset from huggingface using the following command:\n",
    "\n",
    "```\n",
    "from datasets import load_dataset\n",
    "imdb = load_dataset(\"imdb\")\n",
    "```\n",
    "To access BERT, use\n",
    "```\n",
    "from transformers import BertForSequenceClassification\n",
    "#load pre-trained BERT\n",
    "model = BertForSequenceClassification.from_pretrained('bert-base-uncased',\n",
    "                                                      num_labels = len(label_dict),\n",
    "                                                      output_attentions = False,\n",
    "                                                      output_hidden_states = False)\n",
    "```\n",
    "To reduce training complexity, you can choose to freeze the weight of the pretrained BERT model and only train the classifier. The classifier should have a minimum of 3 layers.\n",
    "You might find https://huggingface.co/blog/sentiment-analysis-python and https://github.com/baotramduong/Twitter-Sentiment-Analysis-with-Deep-Learning-using-BERT/blob/main/Notebook.ipynb helpful.\n",
    "\n"
   ]
  },
  {
   "cell_type": "markdown",
   "metadata": {},
   "source": []
  }
 ],
 "metadata": {
  "colab": {
   "provenance": []
  },
  "kernelspec": {
   "display_name": "Python(torch)",
   "language": "python",
   "name": "torch"
  },
  "language_info": {
   "codemirror_mode": {
    "name": "ipython",
    "version": 3
   },
   "file_extension": ".py",
   "mimetype": "text/x-python",
   "name": "python",
   "nbconvert_exporter": "python",
   "pygments_lexer": "ipython3",
   "version": "3.9.19"
  }
 },
 "nbformat": 4,
 "nbformat_minor": 4
}
